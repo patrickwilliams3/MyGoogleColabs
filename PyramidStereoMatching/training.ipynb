{
 "cells": [
  {
   "cell_type": "code",
   "execution_count": null,
   "metadata": {
    "id": "BsoqEHn3nIq1"
   },
   "outputs": [],
   "source": [
    "from PSMN_Model import *\n",
    "import keras\n",
    "import numpy as np\n",
    "import matplotlib.pyplot as plt\n",
    "from PIL import Image\n",
    "from os import path\n",
    "import os\n",
    "\n",
    "\n",
    "###Make Model\n",
    "\n",
    "print(\"Making model\")\n",
    "H,W,C = 128,512,3\n",
    "batch_size = 12\n",
    "\n",
    "if (path.exists(\"psmn.h5\")==True):\n",
    "    psmn = keras.models.load_model(\"psmn.h5\",custom_objects={\"ShiftRight\":ShiftRight,\"DisparityRegression\":DisparityRegression})\n",
    "else:\n",
    "        left_input = layers.Input(shape=(H,W,C)); right_input = layers.Input(shape=(H,W,C))\n",
    "        psmn = PSMN(left_input,right_input,disparity=192,shiftcount=4,base_filter_count=8,basic3DCNN=False)\n",
    "        #psmn.save(\"psmn.h5\")\n",
    "psmn.compile(optimizer=keras.optimizers.Adam(lr=0.001, beta_1=0.9, beta_2=0.999, amsgrad=True),loss=smoothL1)\n",
    "\n",
    "if (path.exists(\"psmn_weights.h5\")==True):\n",
    "  psmn.load_weights(\"psmn_weights.h5\")\n",
    "\n",
    "\n",
    "\n",
    "\n",
    "\n",
    "\n",
    "\n"
   ]
  },
  {
   "cell_type": "code",
   "execution_count": null,
   "metadata": {
    "id": "kVcF8aPtnIq3"
   },
   "outputs": [],
   "source": [
    "### Load in data from KITTI-2015 Dataset to train on\n",
    "\n",
    "print(\"Training model\")\n",
    "Hi,Wi= 376//2,1240//2\n",
    "images = 200\n",
    "training_count = 20\n",
    "\n",
    "train = np.zeros((images,H,W,C,2), dtype=np.float32)\n",
    "disparity = np.zeros((images,H,W), dtype=np.float32)\n",
    "\n",
    "folder = 'KITTI_Data'\n",
    "i = 0\n",
    "for file in os.listdir(folder):\n",
    "    if file.endswith('png'):\n",
    "        if file.startswith('Left_Images'):\n",
    "            train[i,:,:,:,0] = np.array(Image.open(folder + '/' + file).resize((Wi,Hi)))[-H:,:W]\n",
    "        elif file.startswith('Right_Images'):\n",
    "            train[i,:,:,:,1] = np.array(Image.open(folder + '/' + file).resize((Wi,Hi)))[-H:,:W]\n",
    "        elif file.startswith('DisparityMap'):\n",
    "            disparity[i,:,:,:] = np.array(Image.open(folder + '/' + file).resize((Wi,Hi)))[-H:,:W]\n",
    "        else:\n",
    "            i -= 1\n",
    "        i += 1\n",
    "        \n",
    "disparity = disparity[:i]/200.0\n",
    "train = train[:i]/255.0\n"
   ]
  },
  {
   "cell_type": "code",
   "execution_count": null,
   "metadata": {
    "id": "R95mCNdTpK00"
   },
   "outputs": [],
   "source": [
    "disparity.max()"
   ]
  },
  {
   "cell_type": "code",
   "execution_count": null,
   "metadata": {
    "id": "z6RL4DSVnIq5"
   },
   "outputs": [],
   "source": [
    "## Train PSMN Model\n",
    "\n",
    "checkpoint = keras.callbacks.callbacks.ModelCheckpoint('weights.psmn_weights.hdf5',monitor='val_loss',verbose=0,save_best_only=True,save_weights_only=True)\n",
    "progbarlogger = keras.callbacks.callbacks.ProgbarLogger()\n",
    "\n",
    "psmn.fit(x=[train[:training_count,:,:,:,0],train[:training_count,:,:,:,1]],\n",
    "         y=[disparity[:training_count,:,:,np.newaxis],disparity[:training_count,:,:,np.newaxis],disparity[:training_count,:,:,np.newaxis]],\n",
    "         batch_size=batch_size,\n",
    "         epochs=1,\n",
    "         validation_data=([train[training_count:,:,:,:,0],train[training_count:,:,:,:,1]],\n",
    "         [disparity[training_count:,:,:,np.newaxis],disparity[training_count:,:,:,np.newaxis],disparity[training_count:,:,:,np.newaxis]])\n",
    "         ,callbacks=[checkpoint,progbarlogger]\n",
    "         )"
   ]
  },
  {
   "cell_type": "code",
   "execution_count": null,
   "metadata": {
    "id": "Iidz7IMEnIq5"
   },
   "outputs": [],
   "source": [
    "###Visualize output\n",
    "\n",
    "print(\"Visualizing model\")\n",
    "test = np.zeros((12,H,W,1))\n",
    "test = psmn.predict(x=[train[training_count-18:training_count+18:3,:,:,:,0],train[training_count-6:training_count+18,:,:,:,1]])*100\n",
    "real = disparity[162:198:3]*100\n",
    "\n",
    "f, ax = plt.subplots(6,4, gridspec_kw={'wspace':0.001,'hspace':0.35},figsize=(32,8))\n",
    "print(\"Current Number of Epochs: 100\")\n",
    "num = np.where(np.abs(real-test[:,:,:,0])<=300,1,0)\n",
    "correct = np.sum(num)/(H*W*12)\n",
    "print(f\"Percentage Correct (Model Output Within 3px of Actual Disparity) = {correct}\")\n",
    "num = np.where(np.abs(real-test[:,:,:,0])<=800,1,0)\n",
    "correct = np.sum(num)/(H*W*12)\n",
    "print(f\"Percentage Correct (Model Output Within 8px of Actual Disparity) = {correct}\")\n",
    "for i in range(4):\n",
    "    plt.gray()\n",
    "    type_ = 'Training'\n",
    "    ax[0,i].imshow(test[i,:,:,0]);  ax[0,i].axis('Off'); ax[0,i].set_title(f'Output {type_}', size=16)\n",
    "    ax[1,i].imshow(real[i]);  ax[1,i].axis('Off'); ax[1,i].set_title('Truth', size=16)\n",
    "    if i >1:\n",
    "      type_ = 'Validation'\n",
    "    ax[2,i].imshow(test[i+4,:,:,0]);  ax[2,i].axis('Off'); ax[2,i].set_title(f'Output {type_}', size=16)\n",
    "    ax[3,i].imshow(real[i+4]);  ax[3,i].axis('Off'); ax[3,i].set_title('Truth', size=16)\n",
    "    type_ = 'Validation'\n",
    "    ax[4,i].imshow(test[i+8,:,:,0]);  ax[4,i].axis('Off'); ax[4,i].set_title(f'Output {type_}', size=16)\n",
    "    ax[5,i].imshow(real[i+8]);  ax[5,i].axis('Off'); ax[5,i].set_title('Truth', size=16)\n",
    "plt.show()"
   ]
  }
 ],
 "metadata": {
  "colab": {
   "collapsed_sections": [],
   "name": "training.ipynb",
   "provenance": []
  },
  "kernelspec": {
   "display_name": "Python 3",
   "language": "python",
   "name": "python3"
  },
  "language_info": {
   "codemirror_mode": {
    "name": "ipython",
    "version": 3
   },
   "file_extension": ".py",
   "mimetype": "text/x-python",
   "name": "python",
   "nbconvert_exporter": "python",
   "pygments_lexer": "ipython3",
   "version": "3.9.2"
  }
 },
 "nbformat": 4,
 "nbformat_minor": 1
}
