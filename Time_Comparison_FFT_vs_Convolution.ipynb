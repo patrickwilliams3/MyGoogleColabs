{
  "nbformat": 4,
  "nbformat_minor": 0,
  "metadata": {
    "colab": {
      "name": "Time Comparison - FFT vs Convolution.ipynb",
      "provenance": []
    },
    "kernelspec": {
      "name": "python3",
      "display_name": "Python 3"
    },
    "accelerator": "GPU"
  },
  "cells": [
    {
      "cell_type": "code",
      "metadata": {
        "id": "76Itmq-7yN6S"
      },
      "source": [
        "import numpy as np\n",
        "from time import time\n",
        "import torch"
      ],
      "execution_count": 60,
      "outputs": []
    },
    {
      "cell_type": "code",
      "metadata": {
        "id": "Dmi4dnLkyVvI"
      },
      "source": [
        "img = np.arange(256)[:,np.newaxis]@np.ones(256)[np.newaxis,:]\n",
        "kernel = np.array([[-1,0,1],[-2,0,2],[-1,0,1]])"
      ],
      "execution_count": 61,
      "outputs": []
    },
    {
      "cell_type": "code",
      "metadata": {
        "id": "z4yEjjmr84Kw"
      },
      "source": [
        "x = kernel.shape[0]-1; y = kernel.shape[1]-1\n",
        "p_img = np.pad(img,((x,x),(y,y)))\n",
        "a = (p_img.shape[0]-kernel.shape[0])//2\n",
        "b = int(np.ceil((p_img.shape[0]-kernel.shape[0])/2))\n",
        "\n",
        "\n",
        "p_img = torch.Tensor(p_img)\n",
        "##Note: You can take the fft of the kernel and pad it ahead of time while testing since it is a constant.\n",
        "padded_kernel = torch.nn.functional.pad(torch.fft.fft2(torch.Tensor(kernel)),(b,a,b,a))"
      ],
      "execution_count": 62,
      "outputs": []
    },
    {
      "cell_type": "code",
      "metadata": {
        "colab": {
          "base_uri": "https://localhost:8080/"
        },
        "id": "7_9Ve_3p9r88",
        "outputId": "30bd49aa-c43b-4ae9-b7c8-acb81051485c"
      },
      "source": [
        "start_time = time()\n",
        "out_fft = (torch.fft.fft2(p_img) * padded_kernel)[x:-x,y:-y]\n",
        "print(time() - start_time)"
      ],
      "execution_count": 63,
      "outputs": [
        {
          "output_type": "stream",
          "text": [
            "0.0016040802001953125\n"
          ],
          "name": "stdout"
        }
      ]
    },
    {
      "cell_type": "code",
      "metadata": {
        "id": "_FtaiwyM-Y3J"
      },
      "source": [
        "img = torch.Tensor(img)\n",
        "kernel = torch.Tensor(kernel)\n",
        "\n",
        "img = torch.reshape(img,(1,1,img.shape[0],img.shape[1]))\n",
        "kernel = torch.reshape(kernel,(1,1,kernel.shape[0],kernel.shape[1]))"
      ],
      "execution_count": 64,
      "outputs": []
    },
    {
      "cell_type": "code",
      "metadata": {
        "colab": {
          "base_uri": "https://localhost:8080/"
        },
        "id": "YB18SFW7-LZN",
        "outputId": "8e83d90f-8162-4d34-d4fe-bfff8ea8ad4a"
      },
      "source": [
        "start_time = time()\n",
        "out_conv = torch.nn.functional.conv2d(img,kernel,padding=(1,1))\n",
        "print(time() - start_time)"
      ],
      "execution_count": 65,
      "outputs": [
        {
          "output_type": "stream",
          "text": [
            "0.0033311843872070312\n"
          ],
          "name": "stdout"
        }
      ]
    },
    {
      "cell_type": "code",
      "metadata": {
        "colab": {
          "base_uri": "https://localhost:8080/"
        },
        "id": "0G_8See48oiK",
        "outputId": "4ec216bc-6b82-4a31-b8fa-9f12b3930198"
      },
      "source": [
        "out_fft == out_conv"
      ],
      "execution_count": 66,
      "outputs": [
        {
          "output_type": "execute_result",
          "data": {
            "text/plain": [
              "tensor([[[[False,  True,  True,  ...,  True,  True, False],\n",
              "          [False,  True,  True,  ...,  True,  True, False],\n",
              "          [False,  True,  True,  ...,  True,  True, False],\n",
              "          ...,\n",
              "          [False,  True,  True,  ...,  True,  True, False],\n",
              "          [False,  True,  True,  ...,  True,  True, False],\n",
              "          [False,  True,  True,  ...,  True,  True, False]]]])"
            ]
          },
          "metadata": {
            "tags": []
          },
          "execution_count": 66
        }
      ]
    },
    {
      "cell_type": "code",
      "metadata": {
        "colab": {
          "base_uri": "https://localhost:8080/"
        },
        "id": "eqMBcBA6AD2V",
        "outputId": "6f617987-fc66-4f5e-c45f-5c2468fc92f0"
      },
      "source": [
        "## Still working on de-bugging why first column and last column are not equal\n",
        "out_fft[:,1:-1] == out_conv[0,0,:,1:-1]"
      ],
      "execution_count": 68,
      "outputs": [
        {
          "output_type": "execute_result",
          "data": {
            "text/plain": [
              "tensor([[True, True, True,  ..., True, True, True],\n",
              "        [True, True, True,  ..., True, True, True],\n",
              "        [True, True, True,  ..., True, True, True],\n",
              "        ...,\n",
              "        [True, True, True,  ..., True, True, True],\n",
              "        [True, True, True,  ..., True, True, True],\n",
              "        [True, True, True,  ..., True, True, True]])"
            ]
          },
          "metadata": {
            "tags": []
          },
          "execution_count": 68
        }
      ]
    }
  ]
}