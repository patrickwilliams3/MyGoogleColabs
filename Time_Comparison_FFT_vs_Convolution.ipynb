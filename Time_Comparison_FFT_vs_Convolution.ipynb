{
  "nbformat": 4,
  "nbformat_minor": 0,
  "metadata": {
    "colab": {
      "name": "Time Comparison - FFT vs Convolution.ipynb",
      "provenance": [],
      "collapsed_sections": []
    },
    "kernelspec": {
      "name": "python3",
      "display_name": "Python 3"
    },
    "accelerator": "GPU"
  },
  "cells": [
    {
      "cell_type": "code",
      "metadata": {
        "id": "76Itmq-7yN6S"
      },
      "source": [
        "import numpy as np\n",
        "from time import time\n",
        "import torch\n",
        "from matplotlib import pyplot as plt"
      ],
      "execution_count": 196,
      "outputs": []
    },
    {
      "cell_type": "code",
      "metadata": {
        "id": "Dmi4dnLkyVvI"
      },
      "source": [
        "img = np.arange(256)[:,np.newaxis]@np.ones(256)[np.newaxis,:]\n",
        "kernel = np.array([[-1,0,1],[-2,0,7],[-1,0,1]])"
      ],
      "execution_count": 186,
      "outputs": []
    },
    {
      "cell_type": "code",
      "metadata": {
        "id": "z4yEjjmr84Kw"
      },
      "source": [
        "x = kernel.shape[0]-1; y = kernel.shape[1]-1\n",
        "p_img = img\n",
        "#p_img = np.pad(img,((x,x),(y,y)))\n",
        "a = (p_img.shape[0]-kernel.shape[0])//2\n",
        "b = int(np.ceil((p_img.shape[0]-kernel.shape[0])/2))\n",
        "\n",
        "\n",
        "p_img = torch.Tensor(p_img)\n",
        "##Note: You can take the fft of the kernel and pad it ahead of time while testing since it is a constant.\n",
        "p_kernel = np.zeros(img.shape)\n",
        "x = t_kernel.shape[0]; y = t_kernel.shape[1]\n",
        "p_kernel[:(x-x//2),:(y-y//2)] = kernel[(x//2):,(y//2):]\n",
        "p_kernel[-(x//2):,:(y-y//2)] = kernel[:(x//2),(y//2):]\n",
        "p_kernel[:(x-x//2),-(y//2):] = kernel[(x//2):,:(y//2)]\n",
        "p_kernel[-(x//2):,-(y//2):] = kernel[:(x//2),:(y//2)]\n",
        "\n",
        "padded_kernel = torch.fft.rfft2(torch.Tensor(p_kernel))\n"
      ],
      "execution_count": 187,
      "outputs": []
    },
    {
      "cell_type": "code",
      "metadata": {
        "colab": {
          "base_uri": "https://localhost:8080/"
        },
        "id": "7_9Ve_3p9r88",
        "outputId": "3a109525-3739-4e6f-d5c8-650fca07db1c"
      },
      "source": [
        "start_time = time()\n",
        "out_fft = (torch.fft.rfft2(p_img) * padded_kernel)\n",
        "out_fft = torch.fft.irfft2(out_fft)\n",
        "print(time() - start_time)"
      ],
      "execution_count": 188,
      "outputs": [
        {
          "output_type": "stream",
          "text": [
            "0.0019731521606445312\n"
          ],
          "name": "stdout"
        }
      ]
    },
    {
      "cell_type": "code",
      "metadata": {
        "id": "_FtaiwyM-Y3J"
      },
      "source": [
        "img2 = torch.Tensor(img)\n",
        "kernel2 = torch.Tensor(kernel)\n",
        "\n",
        "img2 = torch.reshape(img2,(1,1,img2.shape[0],img2.shape[1]))\n",
        "kernel2 = torch.reshape(kernel2,(1,1,kernel2.shape[0],kernel2.shape[1]))"
      ],
      "execution_count": 189,
      "outputs": []
    },
    {
      "cell_type": "code",
      "metadata": {
        "colab": {
          "base_uri": "https://localhost:8080/"
        },
        "id": "YB18SFW7-LZN",
        "outputId": "f9daeee8-0a57-4950-9561-d9dd1dda2992"
      },
      "source": [
        "start_time = time()\n",
        "out_conv = torch.nn.functional.conv2d(img2,kernel2,padding=(1,1))\n",
        "print(time() - start_time)"
      ],
      "execution_count": 190,
      "outputs": [
        {
          "output_type": "stream",
          "text": [
            "0.0035200119018554688\n"
          ],
          "name": "stdout"
        }
      ]
    },
    {
      "cell_type": "code",
      "metadata": {
        "colab": {
          "base_uri": "https://localhost:8080/"
        },
        "id": "0G_8See48oiK",
        "outputId": "6f8a0eb2-c779-4b4a-b3e2-5e087db1b095"
      },
      "source": [
        "#Still working on debugging why they are not almost exactly equal\n",
        "out_fft == out_conv"
      ],
      "execution_count": 191,
      "outputs": [
        {
          "output_type": "execute_result",
          "data": {
            "text/plain": [
              "tensor([[[[False,  True,  True,  ...,  True,  True, False],\n",
              "          [False,  True,  True,  ...,  True,  True, False],\n",
              "          [False, False, False,  ..., False, False, False],\n",
              "          ...,\n",
              "          [False,  True,  True,  ...,  True,  True, False],\n",
              "          [False,  True,  True,  ...,  True,  True, False],\n",
              "          [False,  True,  True,  ...,  True,  True, False]]]])"
            ]
          },
          "metadata": {
            "tags": []
          },
          "execution_count": 191
        }
      ]
    },
    {
      "cell_type": "code",
      "metadata": {
        "colab": {
          "base_uri": "https://localhost:8080/"
        },
        "id": "J2DIDbqQLR25",
        "outputId": "b6449cba-7978-40a7-e65b-cf24cf8bf8bf"
      },
      "source": [
        "print(f'Mean out_fft: {out_fft.mean()} | Variance out_fft: {out_fft.var()}')\n",
        "print(f'Mean out_conv: {out_conv.mean()} | Variance out_conv: {out_conv.var()}')"
      ],
      "execution_count": 206,
      "outputs": [
        {
          "output_type": "stream",
          "text": [
            "Mean out_fft: 637.5 | Variance out_fft: 136533.328125\n",
            "Mean out_conv: 635.009765625 | Variance out_conv: 143665.59375\n"
          ],
          "name": "stdout"
        }
      ]
    },
    {
      "cell_type": "code",
      "metadata": {
        "colab": {
          "base_uri": "https://localhost:8080/",
          "height": 286
        },
        "id": "D3jnGNKkKYJb",
        "outputId": "00033744-a617-4ca1-81c7-329c4f9b1072"
      },
      "source": [
        "plt.imshow(out_fft)"
      ],
      "execution_count": 197,
      "outputs": [
        {
          "output_type": "execute_result",
          "data": {
            "text/plain": [
              "<matplotlib.image.AxesImage at 0x7f4cfa4d1450>"
            ]
          },
          "metadata": {
            "tags": []
          },
          "execution_count": 197
        },
        {
          "output_type": "display_data",
          "data": {
            "image/png": "[encoded data removed]",
            "text/plain": [
              "<Figure size 432x288 with 1 Axes>"
            ]
          },
          "metadata": {
            "tags": [],
            "needs_background": "light"
          }
        }
      ]
    },
    {
      "cell_type": "code",
      "metadata": {
        "colab": {
          "base_uri": "https://localhost:8080/",
          "height": 286
        },
        "id": "rMf0RQklKr_X",
        "outputId": "9df26739-718b-4b88-8a99-ef27a96b1cbb"
      },
      "source": [
        "plt.imshow(out_conv[0,0])"
      ],
      "execution_count": 199,
      "outputs": [
        {
          "output_type": "execute_result",
          "data": {
            "text/plain": [
              "<matplotlib.image.AxesImage at 0x7f4cf9b3ad90>"
            ]
          },
          "metadata": {
            "tags": []
          },
          "execution_count": 199
        },
        {
          "output_type": "display_data",
          "data": {
            "image/png": "[encoded data removed]",
            "text/plain": [
              "<Figure size 432x288 with 1 Axes>"
            ]
          },
          "metadata": {
            "tags": [],
            "needs_background": "light"
          }
        }
      ]
    }
  ]
}