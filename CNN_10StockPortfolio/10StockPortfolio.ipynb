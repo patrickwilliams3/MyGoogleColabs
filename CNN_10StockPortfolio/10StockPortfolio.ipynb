{
  "nbformat": 4,
  "nbformat_minor": 0,
  "metadata": {
    "kernelspec": {
      "display_name": "Python 3",
      "language": "python",
      "name": "python3"
    },
    "language_info": {
      "codemirror_mode": {
        "name": "ipython",
        "version": 3
      },
      "file_extension": ".py",
      "mimetype": "text/x-python",
      "name": "python",
      "nbconvert_exporter": "python",
      "pygments_lexer": "ipython3",
      "version": "3.6.9"
    },
    "colab": {
      "name": "10StockPortfolio.ipynb",
      "provenance": [],
      "collapsed_sections": []
    }
  },
  "cells": [
    {
      "cell_type": "code",
      "metadata": {
        "id": "UWNh_ZrLNN64",
        "colab_type": "code",
        "colab": {
          "base_uri": "https://localhost:8080/",
          "height": 34
        },
        "outputId": "24b36944-03c2-4220-c306-24ab9a995802"
      },
      "source": [
        "import tensorflow as tf\n",
        "from keras.models import Model, load_model\n",
        "import keras.backend as K\n",
        "from keras import layers, models, utils\n",
        "import keras\n",
        "import numpy as np\n",
        "import os\n",
        "import matplotlib.pyplot as plt\n",
        "from PIL import Image\n",
        "import pandas as pd\n",
        "import re\n",
        "import random\n",
        "import pandas as pd\n",
        "import cv2\n",
        "import math\n",
        "import datetime\n",
        "print(tf.version.VERSION)"
      ],
      "execution_count": 339,
      "outputs": [
        {
          "output_type": "stream",
          "text": [
            "2.2.0\n"
          ],
          "name": "stdout"
        }
      ]
    },
    {
      "cell_type": "code",
      "metadata": {
        "id": "RmaycPhrNN69",
        "colab_type": "code",
        "colab": {
          "base_uri": "https://localhost:8080/",
          "height": 68
        },
        "outputId": "79175d8e-3ca0-4360-8463-9937cf33aa86"
      },
      "source": [
        "stock_data = pd.read_excel('10StockPortfolio.xlsx')\n",
        "print(stock_data.columns)"
      ],
      "execution_count": 340,
      "outputs": [
        {
          "output_type": "stream",
          "text": [
            "Index(['Date', 'Netflix', 'Google', 'Amazon', 'American Airlines',\n",
            "       'Bank of America', 'Danaher', 'Ford', 'Nike', 'Apple', 'BP', 'S&P 500'],\n",
            "      dtype='object')\n"
          ],
          "name": "stdout"
        }
      ]
    },
    {
      "cell_type": "code",
      "metadata": {
        "id": "bPUXnVdjNN7A",
        "colab_type": "code",
        "colab": {}
      },
      "source": [
        "data = []\n",
        "date_to_num = {}\n",
        "num_to_date = {}\n",
        "i = 0\n",
        "for row in stock_data.iterrows():\n",
        "    datapoint = []\n",
        "    for column in stock_data.columns:\n",
        "        if column != 'Date' and column != 'S&P 500':\n",
        "            datapoint.append(row[1][column])\n",
        "    data.append(datapoint)\n",
        "    if i >= 100:\n",
        "        date_to_num.update({row[1]['Date'] : i-100})\n",
        "        num_to_date.update({str(i-100): row[1]['Date']})\n",
        "    i = i+1"
      ],
      "execution_count": 0,
      "outputs": []
    },
    {
      "cell_type": "code",
      "metadata": {
        "id": "IY8XTLbDNN7C",
        "colab_type": "code",
        "colab": {
          "base_uri": "https://localhost:8080/",
          "height": 34
        },
        "outputId": "24c0cac3-7d78-4d5b-f0cb-a8a2b89b7032"
      },
      "source": [
        "data = np.array(data,dtype=np.float32)\n",
        "print(data.shape)"
      ],
      "execution_count": 342,
      "outputs": [
        {
          "output_type": "stream",
          "text": [
            "(2606, 10)\n"
          ],
          "name": "stdout"
        }
      ]
    },
    {
      "cell_type": "code",
      "metadata": {
        "id": "FFIhO9g5NN7E",
        "colab_type": "code",
        "colab": {
          "base_uri": "https://localhost:8080/",
          "height": 85
        },
        "outputId": "c3ee839e-8f85-49c1-d3a1-0380de29495f"
      },
      "source": [
        "last100days = np.zeros((data.shape[0]-101,data.shape[1],100))\n",
        "variances = np.zeros((data.shape[0]-101,10,1))\n",
        "covariances = np.zeros((data.shape[0]-101,10,10))\n",
        "percent_returns = np.zeros((data.shape[0]-101,10,1))\n",
        "for i in range(100,data.shape[0]-1):\n",
        "    last100days[i-100] = np.swapaxes(data[i-100:i],0,1)\n",
        "    variances[i-100] = np.var(data[i-100:i],axis=0)[:,np.newaxis]\n",
        "    covariances[i-100] = np.cov(data[i-100:i],rowvar=False)[:,:]\n",
        "    percent_returns[i-100] = (((data[i+1] / data[i]) - 1) * 100)[:,np.newaxis]\n",
        "    ##percent returns is the returns on the stock for the next day\n",
        "print(last100days.shape)\n",
        "print(variances.shape)\n",
        "print(percent_returns.shape)\n",
        "print(covariances.shape)\n",
        "    "
      ],
      "execution_count": 343,
      "outputs": [
        {
          "output_type": "stream",
          "text": [
            "(2505, 10, 100)\n",
            "(2505, 10, 1)\n",
            "(2505, 10, 1)\n",
            "(2505, 10, 10)\n"
          ],
          "name": "stdout"
        }
      ]
    },
    {
      "cell_type": "code",
      "metadata": {
        "id": "B7mOGwufNN7G",
        "colab_type": "code",
        "colab": {
          "base_uri": "https://localhost:8080/",
          "height": 68
        },
        "outputId": "dbe6f33c-6910-4b7e-ec85-a5d82c5b1b1c"
      },
      "source": [
        "print(num_to_date[str(1158)])\n",
        "print(num_to_date[str(1410)])\n",
        "##Validate on 1158:1410\n",
        "print(num_to_date[str(2164)])\n",
        "##Test on 2164:\n",
        "##Train on 0:1158 and 1410:2164\n",
        "\n",
        "##Subtract 100 from all numbers\n"
      ],
      "execution_count": 344,
      "outputs": [
        {
          "output_type": "stream",
          "text": [
            "2015-01-02 00:00:00\n",
            "2016-01-04 00:00:00\n",
            "2019-01-02 00:00:00\n"
          ],
          "name": "stdout"
        }
      ]
    },
    {
      "cell_type": "code",
      "metadata": {
        "id": "kyQRcKMaNN7I",
        "colab_type": "code",
        "colab": {}
      },
      "source": [
        "last100days_layer = layers.Input(shape=(10,100))\n",
        "percent_returns_layer = layers.Input(shape=(10,1))\n",
        "covariances_layer = layers.Input(shape=(10,10))\n",
        "\n",
        "x = layers.Conv1D(1024,1)(last100days_layer)\n",
        "x = layers.LeakyReLU()(x)\n",
        "x = layers.Conv1D(512,1)(x)\n",
        "x = layers.LeakyReLU()(x)\n",
        "x = layers.Conv1D(128,1)(x)\n",
        "x = layers.LeakyReLU()(x)\n",
        "x = layers.Conv1D(32,1)(x)\n",
        "x = layers.LeakyReLU()(x)\n",
        "x = layers.Conv1D(1,1)(x)\n",
        "portfolio = layers.Softmax(axis=1)(x)\n",
        "\n",
        "## Compute mean returns for the day for portfolio\n",
        "returns = layers.Multiply()([portfolio,percent_returns_layer])\n",
        "returns_num = layers.Lambda(lambda xin: K.sum(xin, axis=1))(returns)\n",
        "returns = layers.Activation(keras.activations.sigmoid)(returns_num)\n",
        "\n",
        "##Compute volatility of the portfolio using covariance matrix\n",
        "portfolio_transpose = layers.Lambda(lambda xin: K.permute_dimensions(xin,(0,2,1)))(portfolio)\n",
        "covariance = layers.Dot(axes=(2,1))([portfolio_transpose,covariances_layer])\n",
        "covariance = layers.Dot(axes=(2,1))([covariance,portfolio])\n",
        "covariance = layers.Lambda(lambda xin: K.sqrt(xin))(covariance)\n",
        "\n",
        "volatility_num = layers.Lambda(lambda xin: K.squeeze(xin,axis=-1))(covariance)\n",
        "volatility = layers.Activation(keras.activations.tanh)(volatility_num)\n",
        "\n",
        "\n",
        "\n",
        "\n"
      ],
      "execution_count": 0,
      "outputs": []
    },
    {
      "cell_type": "code",
      "metadata": {
        "id": "tlG0ERCXbkEA",
        "colab_type": "code",
        "colab": {}
      },
      "source": [
        "optimizer = tf.keras.optimizers.Adam(\n",
        "    learning_rate=0.000001, beta_1=0.9, beta_2=0.999, epsilon=1e-07, amsgrad=False,\n",
        "    name='Adam'\n",
        ")"
      ],
      "execution_count": 0,
      "outputs": []
    },
    {
      "cell_type": "code",
      "metadata": {
        "id": "m3sSMzzifRHB",
        "colab_type": "code",
        "colab": {}
      },
      "source": [
        "loss = tf.keras.losses.BinaryCrossentropy(\n",
        "    from_logits=False,\n",
        "    name='binary_crossentropy'\n",
        ")\n",
        "\n",
        "def maxWeight(y_true, y_pred, HUBER_DELTA = 0.125):\n",
        "   x   = K.abs(y_true - y_pred)\n",
        "   x   = K.switch(x < HUBER_DELTA, 0*x, 2*(x-HUBER_DELTA) **2)\n",
        "   return  K.sum(x)"
      ],
      "execution_count": 0,
      "outputs": []
    },
    {
      "cell_type": "code",
      "metadata": {
        "id": "K1URpOGdfXNr",
        "colab_type": "code",
        "colab": {}
      },
      "source": [
        "weight_constraint = np.zeros((variances.shape[0],10,1)) + 0.175\n",
        "true = np.zeros((variances.shape[0],2))\n",
        "true[:,0] = 1\n",
        "true[:,1] = 0"
      ],
      "execution_count": 0,
      "outputs": []
    },
    {
      "cell_type": "code",
      "metadata": {
        "id": "7bJo24Q_PNAB",
        "colab_type": "code",
        "colab": {}
      },
      "source": [
        "network = Model(inputs=[last100days_layer,percent_returns_layer,covariances_layer],outputs=[portfolio,returns,volatility])"
      ],
      "execution_count": 0,
      "outputs": []
    },
    {
      "cell_type": "code",
      "metadata": {
        "id": "qU2nccaXfpn-",
        "colab_type": "code",
        "colab": {
          "base_uri": "https://localhost:8080/",
          "height": 952
        },
        "outputId": "eb2a405c-2e8b-4109-965d-912b42281cb5"
      },
      "source": [
        "network.compile(optimizer=optimizer,loss=[maxWeight,loss,loss])\n",
        "network.summary()"
      ],
      "execution_count": 360,
      "outputs": [
        {
          "output_type": "stream",
          "text": [
            "Model: \"model_44\"\n",
            "__________________________________________________________________________________________________\n",
            "Layer (type)                    Output Shape         Param #     Connected to                     \n",
            "==================================================================================================\n",
            "input_170 (InputLayer)          (None, 10, 100)      0                                            \n",
            "__________________________________________________________________________________________________\n",
            "conv1d_213 (Conv1D)             (None, 10, 1024)     103424      input_170[0][0]                  \n",
            "__________________________________________________________________________________________________\n",
            "leaky_re_lu_170 (LeakyReLU)     (None, 10, 1024)     0           conv1d_213[0][0]                 \n",
            "__________________________________________________________________________________________________\n",
            "conv1d_214 (Conv1D)             (None, 10, 512)      524800      leaky_re_lu_170[0][0]            \n",
            "__________________________________________________________________________________________________\n",
            "leaky_re_lu_171 (LeakyReLU)     (None, 10, 512)      0           conv1d_214[0][0]                 \n",
            "__________________________________________________________________________________________________\n",
            "conv1d_215 (Conv1D)             (None, 10, 128)      65664       leaky_re_lu_171[0][0]            \n",
            "__________________________________________________________________________________________________\n",
            "leaky_re_lu_172 (LeakyReLU)     (None, 10, 128)      0           conv1d_215[0][0]                 \n",
            "__________________________________________________________________________________________________\n",
            "conv1d_216 (Conv1D)             (None, 10, 32)       4128        leaky_re_lu_172[0][0]            \n",
            "__________________________________________________________________________________________________\n",
            "leaky_re_lu_173 (LeakyReLU)     (None, 10, 32)       0           conv1d_216[0][0]                 \n",
            "__________________________________________________________________________________________________\n",
            "conv1d_217 (Conv1D)             (None, 10, 1)        33          leaky_re_lu_173[0][0]            \n",
            "__________________________________________________________________________________________________\n",
            "softmax_43 (Softmax)            (None, 10, 1)        0           conv1d_217[0][0]                 \n",
            "__________________________________________________________________________________________________\n",
            "lambda_131 (Lambda)             (None, 1, 10)        0           softmax_43[0][0]                 \n",
            "__________________________________________________________________________________________________\n",
            "input_172 (InputLayer)          (None, 10, 10)       0                                            \n",
            "__________________________________________________________________________________________________\n",
            "dot_37 (Dot)                    (None, 1, 10)        0           lambda_131[0][0]                 \n",
            "                                                                 input_172[0][0]                  \n",
            "__________________________________________________________________________________________________\n",
            "input_171 (InputLayer)          (None, 10, 1)        0                                            \n",
            "__________________________________________________________________________________________________\n",
            "dot_38 (Dot)                    (None, 1, 1)         0           dot_37[0][0]                     \n",
            "                                                                 softmax_43[0][0]                 \n",
            "__________________________________________________________________________________________________\n",
            "multiply_61 (Multiply)          (None, 10, 1)        0           softmax_43[0][0]                 \n",
            "                                                                 input_171[0][0]                  \n",
            "__________________________________________________________________________________________________\n",
            "lambda_132 (Lambda)             (None, 1, 1)         0           dot_38[0][0]                     \n",
            "__________________________________________________________________________________________________\n",
            "lambda_130 (Lambda)             (None, 1)            0           multiply_61[0][0]                \n",
            "__________________________________________________________________________________________________\n",
            "lambda_133 (Lambda)             (None, 1)            0           lambda_132[0][0]                 \n",
            "__________________________________________________________________________________________________\n",
            "activation_63 (Activation)      (None, 1)            0           lambda_130[0][0]                 \n",
            "__________________________________________________________________________________________________\n",
            "activation_64 (Activation)      (None, 1)            0           lambda_133[0][0]                 \n",
            "==================================================================================================\n",
            "Total params: 698,049\n",
            "Trainable params: 698,049\n",
            "Non-trainable params: 0\n",
            "__________________________________________________________________________________________________\n"
          ],
          "name": "stdout"
        }
      ]
    },
    {
      "cell_type": "code",
      "metadata": {
        "id": "Bu8yBHE3f3QL",
        "colab_type": "code",
        "colab": {
          "base_uri": "https://localhost:8080/",
          "height": 751
        },
        "outputId": "b61a53c5-0aa1-447a-c50f-639cb7103107"
      },
      "source": [
        "network.fit(x=[last100days[:2000],percent_returns[:2000],covariances[:2000]],y=[weight_constraint[:2000],true[:2000,0],true[:2000,1]],epochs=20,batch_size=10\n",
        "            ,validation_data=[\n",
        "                             [last100days[2000:2064],percent_returns[2000:2064],covariances[2000:2064]],\n",
        "                             [weight_constraint[2000:2064],true[2000:2064,0],true[2000:2064,1]]\n",
        "            ]\n",
        "            )"
      ],
      "execution_count": 361,
      "outputs": [
        {
          "output_type": "stream",
          "text": [
            "Train on 2000 samples, validate on 64 samples\n",
            "Epoch 1/20\n",
            "2000/2000 [==============================] - 6s 3ms/step - loss: 2.4178 - softmax_43_loss: 0.3506 - activation_63_loss: 0.8479 - activation_64_loss: 1.2192 - val_loss: 2.3460 - val_softmax_43_loss: 0.8180 - val_activation_63_loss: 0.7650 - val_activation_64_loss: 0.6905\n",
            "Epoch 2/20\n",
            "2000/2000 [==============================] - 6s 3ms/step - loss: 2.1372 - softmax_43_loss: 0.2178 - activation_63_loss: 0.8336 - activation_64_loss: 1.0859 - val_loss: 2.4236 - val_softmax_43_loss: 0.9199 - val_activation_63_loss: 0.7689 - val_activation_64_loss: 0.6476\n",
            "Epoch 3/20\n",
            "2000/2000 [==============================] - 6s 3ms/step - loss: 2.1049 - softmax_43_loss: 0.2164 - activation_63_loss: 0.8312 - activation_64_loss: 1.0572 - val_loss: 2.1367 - val_softmax_43_loss: 0.6237 - val_activation_63_loss: 0.7611 - val_activation_64_loss: 0.6862\n",
            "Epoch 4/20\n",
            "2000/2000 [==============================] - 6s 3ms/step - loss: 2.0828 - softmax_43_loss: 0.2156 - activation_63_loss: 0.8297 - activation_64_loss: 1.0375 - val_loss: 2.0721 - val_softmax_43_loss: 0.5087 - val_activation_63_loss: 0.7567 - val_activation_64_loss: 0.7463\n",
            "Epoch 5/20\n",
            "2000/2000 [==============================] - 6s 3ms/step - loss: 2.0687 - softmax_43_loss: 0.2168 - activation_63_loss: 0.8287 - activation_64_loss: 1.0232 - val_loss: 2.0527 - val_softmax_43_loss: 0.4934 - val_activation_63_loss: 0.7527 - val_activation_64_loss: 0.7485\n",
            "Epoch 6/20\n",
            "2000/2000 [==============================] - 6s 3ms/step - loss: 2.0547 - softmax_43_loss: 0.2202 - activation_63_loss: 0.8274 - activation_64_loss: 1.0071 - val_loss: 2.3833 - val_softmax_43_loss: 0.8848 - val_activation_63_loss: 0.7632 - val_activation_64_loss: 0.6511\n",
            "Epoch 7/20\n",
            "2000/2000 [==============================] - 6s 3ms/step - loss: 2.0486 - softmax_43_loss: 0.2212 - activation_63_loss: 0.8271 - activation_64_loss: 1.0003 - val_loss: 2.0639 - val_softmax_43_loss: 0.4377 - val_activation_63_loss: 0.7458 - val_activation_64_loss: 0.8234\n",
            "Epoch 8/20\n",
            "2000/2000 [==============================] - 6s 3ms/step - loss: 2.0433 - softmax_43_loss: 0.2224 - activation_63_loss: 0.8267 - activation_64_loss: 0.9942 - val_loss: 2.0726 - val_softmax_43_loss: 0.4772 - val_activation_63_loss: 0.7472 - val_activation_64_loss: 0.7902\n",
            "Epoch 9/20\n",
            "2000/2000 [==============================] - 6s 3ms/step - loss: 2.0418 - softmax_43_loss: 0.2225 - activation_63_loss: 0.8266 - activation_64_loss: 0.9926 - val_loss: 2.0533 - val_softmax_43_loss: 0.4479 - val_activation_63_loss: 0.7468 - val_activation_64_loss: 0.8033\n",
            "Epoch 10/20\n",
            "2000/2000 [==============================] - 6s 3ms/step - loss: 2.0397 - softmax_43_loss: 0.2235 - activation_63_loss: 0.8260 - activation_64_loss: 0.9902 - val_loss: 2.0795 - val_softmax_43_loss: 0.4769 - val_activation_63_loss: 0.7471 - val_activation_64_loss: 0.7987\n",
            "Epoch 11/20\n",
            "2000/2000 [==============================] - 6s 3ms/step - loss: 2.0387 - softmax_43_loss: 0.2242 - activation_63_loss: 0.8261 - activation_64_loss: 0.9885 - val_loss: 2.2154 - val_softmax_43_loss: 0.7051 - val_activation_63_loss: 0.7559 - val_activation_64_loss: 0.6847\n",
            "Epoch 12/20\n",
            "2000/2000 [==============================] - 6s 3ms/step - loss: 2.0347 - softmax_43_loss: 0.2237 - activation_63_loss: 0.8256 - activation_64_loss: 0.9854 - val_loss: 2.2220 - val_softmax_43_loss: 0.6722 - val_activation_63_loss: 0.7542 - val_activation_64_loss: 0.7254\n",
            "Epoch 13/20\n",
            "2000/2000 [==============================] - 6s 3ms/step - loss: 2.0345 - softmax_43_loss: 0.2256 - activation_63_loss: 0.8256 - activation_64_loss: 0.9833 - val_loss: 2.3740 - val_softmax_43_loss: 0.8772 - val_activation_63_loss: 0.7597 - val_activation_64_loss: 0.6548\n",
            "Epoch 14/20\n",
            "2000/2000 [==============================] - 6s 3ms/step - loss: 2.0321 - softmax_43_loss: 0.2264 - activation_63_loss: 0.8251 - activation_64_loss: 0.9806 - val_loss: 2.1391 - val_softmax_43_loss: 0.5597 - val_activation_63_loss: 0.7497 - val_activation_64_loss: 0.7675\n",
            "Epoch 15/20\n",
            "2000/2000 [==============================] - 6s 3ms/step - loss: 2.0294 - softmax_43_loss: 0.2264 - activation_63_loss: 0.8249 - activation_64_loss: 0.9781 - val_loss: 2.1496 - val_softmax_43_loss: 0.5404 - val_activation_63_loss: 0.7472 - val_activation_64_loss: 0.8003\n",
            "Epoch 16/20\n",
            "2000/2000 [==============================] - 6s 3ms/step - loss: 2.0233 - softmax_43_loss: 0.2229 - activation_63_loss: 0.8237 - activation_64_loss: 0.9766 - val_loss: 2.2809 - val_softmax_43_loss: 0.7009 - val_activation_63_loss: 0.7512 - val_activation_64_loss: 0.7552\n",
            "Epoch 17/20\n",
            "2000/2000 [==============================] - 6s 3ms/step - loss: 2.0259 - softmax_43_loss: 0.2273 - activation_63_loss: 0.8238 - activation_64_loss: 0.9748 - val_loss: 2.1202 - val_softmax_43_loss: 0.4927 - val_activation_63_loss: 0.7459 - val_activation_64_loss: 0.8244\n",
            "Epoch 18/20\n",
            "2000/2000 [==============================] - 6s 3ms/step - loss: 2.0227 - softmax_43_loss: 0.2259 - activation_63_loss: 0.8236 - activation_64_loss: 0.9732 - val_loss: 2.1626 - val_softmax_43_loss: 0.5032 - val_activation_63_loss: 0.7439 - val_activation_64_loss: 0.8549\n",
            "Epoch 19/20\n",
            "2000/2000 [==============================] - 6s 3ms/step - loss: 2.0220 - softmax_43_loss: 0.2273 - activation_63_loss: 0.8235 - activation_64_loss: 0.9712 - val_loss: 2.1359 - val_softmax_43_loss: 0.5425 - val_activation_63_loss: 0.7468 - val_activation_64_loss: 0.7869\n",
            "Epoch 20/20\n",
            "2000/2000 [==============================] - 6s 3ms/step - loss: 2.0212 - softmax_43_loss: 0.2281 - activation_63_loss: 0.8235 - activation_64_loss: 0.9696 - val_loss: 2.1559 - val_softmax_43_loss: 0.4735 - val_activation_63_loss: 0.7433 - val_activation_64_loss: 0.8808\n"
          ],
          "name": "stdout"
        },
        {
          "output_type": "execute_result",
          "data": {
            "text/plain": [
              "<keras.callbacks.callbacks.History at 0x7f44bc5ec3c8>"
            ]
          },
          "metadata": {
            "tags": []
          },
          "execution_count": 361
        }
      ]
    },
    {
      "cell_type": "code",
      "metadata": {
        "id": "iJeVbLN74Xt3",
        "colab_type": "code",
        "colab": {
          "base_uri": "https://localhost:8080/",
          "height": 71
        },
        "outputId": "91c84874-6819-484b-b5ef-21b36eec9a36"
      },
      "source": [
        "network.save(\"10StockPortfolioModel.h5\")"
      ],
      "execution_count": 365,
      "outputs": [
        {
          "output_type": "stream",
          "text": [
            "/usr/local/lib/python3.6/dist-packages/keras/engine/saving.py:165: UserWarning: TensorFlow optimizers do not make it possible to access optimizer attributes or optimizer state after instantiation. As a result, we cannot save the optimizer as part of the model save file.You will have to compile your model again after loading it. Prefer using a Keras optimizer instead (see keras.io/optimizers).\n",
            "  'TensorFlow optimizers do not '\n"
          ],
          "name": "stderr"
        }
      ]
    },
    {
      "cell_type": "code",
      "metadata": {
        "id": "hTnSC3SBlSxU",
        "colab_type": "code",
        "colab": {}
      },
      "source": [
        "portfolio_model = Model(inputs=last100days_layer,\n",
        "                                 outputs=portfolio)"
      ],
      "execution_count": 0,
      "outputs": []
    },
    {
      "cell_type": "code",
      "metadata": {
        "id": "26Dr_t-cllt5",
        "colab_type": "code",
        "colab": {}
      },
      "source": [
        "predictions = portfolio_model.predict(last100days[:2000])"
      ],
      "execution_count": 0,
      "outputs": []
    },
    {
      "cell_type": "code",
      "metadata": {
        "id": "WURzBW17lr26",
        "colab_type": "code",
        "colab": {
          "base_uri": "https://localhost:8080/",
          "height": 204
        },
        "outputId": "8db78f60-2a7f-4d20-f835-352a60c1853e"
      },
      "source": [
        "print(\"Example Portfolio Day:\")\n",
        "print(predictions[900])"
      ],
      "execution_count": 396,
      "outputs": [
        {
          "output_type": "stream",
          "text": [
            "Example Portfolio Day:\n",
            "[[8.0370326e-03]\n",
            " [2.2480667e-15]\n",
            " [1.0794277e-13]\n",
            " [3.0913968e-02]\n",
            " [2.8372556e-01]\n",
            " [1.2692270e-01]\n",
            " [3.2336596e-01]\n",
            " [7.1913831e-02]\n",
            " [2.9182713e-02]\n",
            " [1.2593819e-01]]\n"
          ],
          "name": "stdout"
        }
      ]
    },
    {
      "cell_type": "code",
      "metadata": {
        "id": "UvCXt5VB3hlk",
        "colab_type": "code",
        "colab": {}
      },
      "source": [
        "test_model = Model(inputs=[last100days_layer,percent_returns_layer,covariances_layer],outputs=[portfolio,returns_num,volatility_num])"
      ],
      "execution_count": 0,
      "outputs": []
    },
    {
      "cell_type": "code",
      "metadata": {
        "id": "So1_mc_141Fc",
        "colab_type": "code",
        "colab": {}
      },
      "source": [
        "train_predictions = test_model.predict(x=[last100days[:2000],percent_returns[:2000],covariances[:2000]])"
      ],
      "execution_count": 0,
      "outputs": []
    },
    {
      "cell_type": "code",
      "metadata": {
        "id": "9bL-y1fI4_aZ",
        "colab_type": "code",
        "colab": {
          "base_uri": "https://localhost:8080/",
          "height": 85
        },
        "outputId": "f3a92b10-a34b-4201-d3d0-49828cd2f143"
      },
      "source": [
        "print(\"Percent Return on Training Data:\")\n",
        "print(np.mean(train_predictions[1]*252))\n",
        "print(\"Average Volatility of Portfolio on Training Data:\")\n",
        "print(np.sqrt(np.mean(train_predictions[2])))"
      ],
      "execution_count": 393,
      "outputs": [
        {
          "output_type": "stream",
          "text": [
            "Percent Return on Training Data:\n",
            "18.164627\n",
            "Average Volatility of Portfolio on Training Data:\n",
            "0.8529321\n"
          ],
          "name": "stdout"
        }
      ]
    },
    {
      "cell_type": "code",
      "metadata": {
        "id": "paRVKQ1Sg5HQ",
        "colab_type": "code",
        "colab": {}
      },
      "source": [
        "test_predictions = test_model.predict(x=[last100days[2064:],percent_returns[2064:],covariances[2064:]])"
      ],
      "execution_count": 0,
      "outputs": []
    },
    {
      "cell_type": "code",
      "metadata": {
        "id": "S_87Ppsiki05",
        "colab_type": "code",
        "colab": {
          "base_uri": "https://localhost:8080/",
          "height": 85
        },
        "outputId": "23e49eef-afb0-4399-84a2-60e1b34c399b"
      },
      "source": [
        "print(\"Percent Return on Testing Data:\")\n",
        "print(np.mean(test_predictions[1]*252))\n",
        "print(\"Average Volatility of Portfolio on Testing Data:\")\n",
        "print(np.sqrt(np.mean(test_predictions[2])))"
      ],
      "execution_count": 395,
      "outputs": [
        {
          "output_type": "stream",
          "text": [
            "Percent Return on Testing Data:\n",
            "-26.139975\n",
            "Average Volatility of Portfolio on Testing Data:\n",
            "1.0296574\n"
          ],
          "name": "stdout"
        }
      ]
    }
  ]
}