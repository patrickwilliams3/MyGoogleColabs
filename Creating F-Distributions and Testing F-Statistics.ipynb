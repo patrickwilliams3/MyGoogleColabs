{
 "cells": [
  {
   "cell_type": "code",
   "execution_count": 224,
   "id": "accurate-vatican",
   "metadata": {},
   "outputs": [],
   "source": [
    "import numpy as np\n",
    "import seaborn as sns\n",
    "from random import random\n",
    "import matplotlib.pyplot as plt"
   ]
  },
  {
   "cell_type": "code",
   "execution_count": 179,
   "id": "dramatic-newark",
   "metadata": {},
   "outputs": [],
   "source": [
    "def explained_var(groups):\n",
    "    '''\n",
    "    Calculates explained variance part of ANOVA F-statistic\n",
    "    \n",
    "    parameters\n",
    "    -------------\n",
    "    groups - List of list containing sample groups\n",
    "    \n",
    "    returns explained variance\n",
    "    '''\n",
    "    flattened = [item for sublist in groups for item in sublist]\n",
    "    Ybar = sum(flattened)/len(flattened)\n",
    "    return sum([len(x)*(sum(x)/len(x)-Ybar)**2 for x in groups])/(len(groups)-1)\n",
    "\n",
    "def unexplained_var(groups):\n",
    "    '''\n",
    "    Calculates unexplained variance part of ANOVA F-statistic\n",
    "    \n",
    "    parameters\n",
    "    -------------\n",
    "    groups - List of list containing sample groups\n",
    "    \n",
    "    returns unexplained variance\n",
    "    '''\n",
    "    return (\n",
    "                sum([sum([(x-(sum(group)/len(group)))**2 for x in group]) for group in groups]) / \n",
    "                (len([item for sublist in groups for item in sublist]) - len(groups))\n",
    "            )\n",
    "\n",
    "def ANOVA(*groups):\n",
    "    '''\n",
    "    Calculates F-statistic\n",
    "    \n",
    "    parameters\n",
    "    -------------\n",
    "    groups - List of list or multiple list parameters containing sample groups\n",
    "    \n",
    "    returns the F-statistic\n",
    "    '''\n",
    "    if len(groups) <2:\n",
    "        if len(groups) > 0 and len(groups[0]) > 1:\n",
    "            groups = groups[0]\n",
    "        else:\n",
    "            print('Not valid F-test')\n",
    "            return 0\n",
    "    return explained_var(groups) / unexplained_var(groups)"
   ]
  },
  {
   "cell_type": "code",
   "execution_count": 327,
   "id": "broadband-darwin",
   "metadata": {},
   "outputs": [
    {
     "name": "stdout",
     "output_type": "stream",
     "text": [
      "d1 = 3\n",
      "d2 = 36\n"
     ]
    }
   ],
   "source": [
    "## Create Distribution\n",
    "\n",
    "d1 = 3 ## Equals num_groups -1\n",
    "d2 = 36 ## Equals total_samples - num_groups\n",
    "num_samples_f = 100000 ##The number of samples in our F-distribution. The higher the more accurate F-distribution\n",
    "\n",
    "\n",
    "num_groups = d1 + 1\n",
    "total_samples = d2 + num_groups\n",
    "dist = []\n",
    "for i in range(num_samples_f):\n",
    "    ## Create num_groups groups sampled from the same (mean,var) normal distribution.\n",
    "    ## Samples are uniformly distributed throughout groups so they do not have to have\n",
    "    ## same number of samples. Constraint is each group must have at least 2 samples.\n",
    "    groups = []\n",
    "    mean = random()*10000\n",
    "    var = random()*1000\n",
    "    random_nums = (np.random.rand(total_samples-(2*num_groups)) * (num_groups)).astype(np.uint8)\n",
    "    for j in range(num_groups):\n",
    "        groups.append(list(np.random.normal(mean,var,2+len(random_nums[np.where(random_nums==j)]))))\n",
    "    dist.append(ANOVA(groups))\n",
    "f_distribution = np.array(dist)\n",
    "f_distribution.sort(reverse = True) ## Sorted by value max->min so we can easily find alpha values"
   ]
  },
  {
   "cell_type": "code",
   "execution_count": 328,
   "id": "sunset-nicaragua",
   "metadata": {},
   "outputs": [
    {
     "data": {
      "text/plain": [
       "<Figure size 432x288 with 0 Axes>"
      ]
     },
     "metadata": {},
     "output_type": "display_data"
    },
    {
     "data": {
      "image/png": "[encoded data removed]",
      "text/plain": [
       "<Figure size 360x360 with 1 Axes>"
      ]
     },
     "metadata": {
      "needs_background": "light"
     },
     "output_type": "display_data"
    }
   ],
   "source": [
    "## Plot Distribution\n",
    "plt.clf()\n",
    "sns.displot(f_distribution,kind=\"kde\")\n",
    "plt.xlim(0,5)\n",
    "plt.show()"
   ]
  },
  {
   "cell_type": "code",
   "execution_count": 330,
   "id": "everyday-surprise",
   "metadata": {},
   "outputs": [
    {
     "name": "stdout",
     "output_type": "stream",
     "text": [
      "alpha = 0.10 : 2.228897095368902\n",
      "alpha = 0.05 : 2.8529677299058083\n",
      "alpha = 0.01 : 4.4094579252415675\n"
     ]
    }
   ],
   "source": [
    "print(f'alpha = 0.10 : {f_distribution[int(len(f_distribution)*.1)]}')\n",
    "print(f'alpha = 0.05 : {f_distribution[int(len(f_distribution)*.05)]}')\n",
    "print(f'alpha = 0.01 : {f_distribution[int(len(f_distribution)*.01)]}')"
   ]
  },
  {
   "cell_type": "code",
   "execution_count": 324,
   "id": "million-share",
   "metadata": {},
   "outputs": [
    {
     "data": {
      "text/plain": [
       "0.03031"
      ]
     },
     "execution_count": 324,
     "metadata": {},
     "output_type": "execute_result"
    }
   ],
   "source": [
    "len(f_distribution[np.where(f_distribution > 3.3)]) / len(f_distribution)\n",
    "## Equivalent to right tail shown here: \n",
    "## https://blog.minitab.com/hubfs/Imported_Blog_Media/f_distribution_probability.png"
   ]
  },
  {
   "cell_type": "code",
   "execution_count": 331,
   "id": "pleased-extension",
   "metadata": {},
   "outputs": [],
   "source": [
    "## Creating some helper functions to help us test our samples against distribution\n",
    "\n",
    "def p_value(distribution,fstat):\n",
    "    '''\n",
    "    Find f-statistics p-value\n",
    "    \n",
    "    parameters\n",
    "    -----------\n",
    "    distribution - F-distribution created above\n",
    "    fstat - F-statistic found from ANOVA() of sample, optional\n",
    "    \n",
    "    returns\n",
    "    p-value\n",
    "    '''\n",
    "    return len(distribution[np.where(distribution>=fstat)])/len(distribution)\n",
    "\n",
    "def find_significance(distribution,samples):\n",
    "    '''\n",
    "    Tests to see if our F-statistic is significant\n",
    "    \n",
    "    parameters\n",
    "    -----------\n",
    "    distribution - F-distribution created above\n",
    "    sample - List of list which are groups of samples\n",
    "    \n",
    "    returns\n",
    "    string of our F-statistics significance\n",
    "    '''\n",
    "    fstat = ANOVA(samples)\n",
    "    return f'Our F-statistic is: {fstat}\\nThe p-value for our F-statistic is {p_value(distribution,fstat)}'"
   ]
  },
  {
   "cell_type": "code",
   "execution_count": 355,
   "id": "patent-runner",
   "metadata": {},
   "outputs": [
    {
     "name": "stdout",
     "output_type": "stream",
     "text": [
      "Our F-statistic is: 1.631399951777817\n",
      "The p-value for our F-statistic is 0.19733\n",
      "\n",
      "Our F-statistic is: 0.23818523145325401\n",
      "The p-value for our F-statistic is 0.86934\n"
     ]
    }
   ],
   "source": [
    "## We can then test samples with our distribution like this\n",
    "\n",
    "samples = [\n",
    "    list((np.random.normal(0,1,11) * 40).astype(np.uint8)),\n",
    "    list((np.random.normal(0,2,6) * 25).astype(np.uint8)),\n",
    "    list((np.random.normal(0,1,10) * 38).astype(np.uint8)),\n",
    "    list((np.random.normal(3,4,13) * 45).astype(np.uint8))\n",
    "]\n",
    "\n",
    "print(find_significance(f_distribution,samples))\n",
    "print()\n",
    "\n",
    "samples = [\n",
    "    list((np.random.normal(0,1,11) * 45).astype(np.uint8)),\n",
    "    list((np.random.normal(0,1,6) * 45).astype(np.uint8)),\n",
    "    list((np.random.normal(0,1,10) * 45).astype(np.uint8)),\n",
    "    list((np.random.normal(0,1,13) * 45).astype(np.uint8))\n",
    "]\n",
    "\n",
    "print(find_significance(f_distribution,samples))"
   ]
  }
 ],
 "metadata": {
  "kernelspec": {
   "display_name": "Python 3",
   "language": "python",
   "name": "python3"
  },
  "language_info": {
   "codemirror_mode": {
    "name": "ipython",
    "version": 3
   },
   "file_extension": ".py",
   "mimetype": "text/x-python",
   "name": "python",
   "nbconvert_exporter": "python",
   "pygments_lexer": "ipython3",
   "version": "3.9.2"
  }
 },
 "nbformat": 4,
 "nbformat_minor": 5
}
